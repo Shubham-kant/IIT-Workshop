{
 "cells": [
  {
   "cell_type": "code",
   "execution_count": 4,
   "metadata": {
    "collapsed": false
   },
   "outputs": [
    {
     "name": "stdout",
     "output_type": "stream",
     "text": [
      "<type 'str'>\n",
      "16\n",
      "this is a string.. Yes it is\n"
     ]
    }
   ],
   "source": [
    "## Strings and Variables\n",
    "x = 'this is a string'\n",
    "print type(x)\n",
    "print len(x)\n",
    "\n",
    "x2 = '.. Yes it is'\n",
    "ans = x + x2\n",
    "print ans"
   ]
  },
  {
   "cell_type": "code",
   "execution_count": 5,
   "metadata": {
    "collapsed": false
   },
   "outputs": [
    {
     "name": "stdout",
     "output_type": "stream",
     "text": [
      "<type 'int'>\n",
      "<type 'float'>\n"
     ]
    }
   ],
   "source": [
    "i = 6\n",
    "print type(i)\n",
    "i2 = 7.9\n",
    "print type(i2)"
   ]
  },
  {
   "cell_type": "code",
   "execution_count": 7,
   "metadata": {
    "collapsed": false
   },
   "outputs": [
    {
     "name": "stdout",
     "output_type": "stream",
     "text": [
      "['this', 'is', 'a', 'string']\n",
      "this--is--a--string\n"
     ]
    }
   ],
   "source": [
    "## split a string\n",
    "arr = x.split(' ')\n",
    "print arr\n",
    "\n",
    "print '--'.join(arr)"
   ]
  },
  {
   "cell_type": "code",
   "execution_count": 9,
   "metadata": {
    "collapsed": false
   },
   "outputs": [
    {
     "name": "stdout",
     "output_type": "stream",
     "text": [
      "[1, 2, 3, 4, 5, 6, 7, 8, 9, 10]\n"
     ]
    }
   ],
   "source": [
    "## Range\n",
    "start = 1\n",
    "end = 10\n",
    "my_list = range(start, end+1)\n",
    "print my_list"
   ]
  },
  {
   "cell_type": "code",
   "execution_count": 15,
   "metadata": {
    "collapsed": false
   },
   "outputs": [
    {
     "name": "stdout",
     "output_type": "stream",
     "text": [
      "[0, 1, 2, 3, 4, 5, 6, 7, 8, 9]\n",
      "[0, 2, 4, 6, 8, 10, 12, 14, 16, 18]\n",
      "[0, 1, 4, 9, 16, 25, 36, 49, 64, 81]\n"
     ]
    }
   ],
   "source": [
    "## Lists\n",
    "print range(10)\n",
    "#for ix in range(10)\n",
    "l = []\n",
    "l2 = []\n",
    "for ix in range(10):\n",
    "    l.append(ix*2)\n",
    "    l2.append(ix**2)\n",
    "print l\n",
    "print l2"
   ]
  },
  {
   "cell_type": "code",
   "execution_count": 17,
   "metadata": {
    "collapsed": false
   },
   "outputs": [
    {
     "name": "stdout",
     "output_type": "stream",
     "text": [
      "[125, 0, 2, 4, 6, 8, 10, 12, 14, 16, 18]\n"
     ]
    }
   ],
   "source": [
    "l.insert(0,125)\n",
    "print l"
   ]
  },
  {
   "cell_type": "code",
   "execution_count": 21,
   "metadata": {
    "collapsed": false
   },
   "outputs": [
    {
     "name": "stdout",
     "output_type": "stream",
     "text": [
      "[0, 2, 4, 6, 8]\n",
      "[1, 3, 5, 7, 9]\n",
      "[2, 3]\n"
     ]
    }
   ],
   "source": [
    "## List Slicing\n",
    "ls = range(10)\n",
    "print ls[::2]\n",
    "print ls[1::2]\n",
    "\n",
    "print ls[2:4]"
   ]
  },
  {
   "cell_type": "code",
   "execution_count": 22,
   "metadata": {
    "collapsed": false
   },
   "outputs": [
    {
     "name": "stdout",
     "output_type": "stream",
     "text": [
      "{0: 0, 1: 1, 2: 8, 3: 27, 4: 64, 5: 125, 6: 216, 7: 343, 8: 512, 9: 729}\n"
     ]
    }
   ],
   "source": [
    "## Python dictionaries\n",
    "x = dict()\n",
    "for ix in range(10):\n",
    "    key = ix\n",
    "    value = ix**3\n",
    "    x[key] = value\n",
    "\n",
    "    print x"
   ]
  },
  {
   "cell_type": "code",
   "execution_count": 27,
   "metadata": {
    "collapsed": false
   },
   "outputs": [
    {
     "name": "stdout",
     "output_type": "stream",
     "text": [
      "[1, 4, 3]\n",
      "<type 'tuple'>\n"
     ]
    }
   ],
   "source": [
    "x_ls = [1,2,3]\n",
    "x_ls[1] = 4\n",
    "print x_ls\n",
    "\n",
    "## Tuples\n",
    "x = (1,2,3)\n",
    "print type(x)\n",
    "#x[1] = 4 - Don't do this - Tuples are immutable"
   ]
  },
  {
   "cell_type": "code",
   "execution_count": 29,
   "metadata": {
    "collapsed": false
   },
   "outputs": [
    {
     "name": "stdout",
     "output_type": "stream",
     "text": [
      "7\n"
     ]
    }
   ],
   "source": [
    "## Function\n",
    "def my_function(v1, v2):\n",
    "    sum_val = v1+v2\n",
    "    return sum_val\n",
    "ans = my_function(3,4)\n",
    "print ans"
   ]
  },
  {
   "cell_type": "code",
   "execution_count": 30,
   "metadata": {
    "collapsed": true
   },
   "outputs": [],
   "source": [
    "## Class in python\n",
    "class MyClass:\n",
    "    arr1 = [] ## Shared by all objects in the class\n",
    "    def __init__(self, v):\n",
    "        self.x = v\n",
    "        self.arr2 = []\n",
    "        self.arr2.append(v)\n",
    "        self.arr1.append(v)\n",
    "    def mult(v1):\n",
    "        return self.x*v1"
   ]
  },
  {
   "cell_type": "code",
   "execution_count": 31,
   "metadata": {
    "collapsed": false
   },
   "outputs": [
    {
     "name": "stdout",
     "output_type": "stream",
     "text": [
      "[10]\n",
      "[10]\n",
      "[10, 5]\n",
      "[5]\n"
     ]
    }
   ],
   "source": [
    "obj1 = MyClass(10)\n",
    "print obj1.arr1\n",
    "print obj1.arr2\n",
    "obj2 = MyClass(5)\n",
    "print obj2.arr1\n",
    "print obj2.arr2"
   ]
  },
  {
   "cell_type": "code",
   "execution_count": 35,
   "metadata": {
    "collapsed": true
   },
   "outputs": [],
   "source": [
    "def get_sum(v1,v2):\n",
    "    print 'method 1 called'\n",
    "    return v1+v2\n",
    "def get_sum(v1,v2,v3):\n",
    "    print 'method 2 called'\n",
    "    return v1+v2+v3\n",
    "\n",
    "def get_sum(l=[]):\n",
    "    sum_val = 0\n",
    "    for ix in l:\n",
    "        sum_val+=ix\n",
    "    return sum_val"
   ]
  },
  {
   "cell_type": "code",
   "execution_count": 54,
   "metadata": {
    "collapsed": false
   },
   "outputs": [],
   "source": [
    "## *args and **kwargs\n",
    "def get_sum(v1,v2,*args, **kwargs):\n",
    "    sum_val = v1 + v2\n",
    "    print args\n",
    "    for ix in args:\n",
    "        sum_val += ix\n",
    "    print kwargs\n",
    "    for ij in kwargs:\n",
    "        sum_val += kwargs[ij]\n",
    "    return sum_val"
   ]
  },
  {
   "cell_type": "code",
   "execution_count": 56,
   "metadata": {
    "collapsed": false
   },
   "outputs": [
    {
     "name": "stdout",
     "output_type": "stream",
     "text": [
      "()\n",
      "{}\n",
      "7\n",
      "--------------\n",
      "(5,)\n",
      "{}\n",
      "12\n",
      "-----------\n",
      "(5,)\n",
      "{'last_val': 10}\n",
      "22\n",
      "-------------\n"
     ]
    }
   ],
   "source": [
    "print get_sum(3,4)\n",
    "print '--------------'\n",
    "print get_sum(3,4,5)\n",
    "print '-----------'\n",
    "print get_sum(3,4,5,last_val =10)\n",
    "print '-------------'"
   ]
  },
  {
   "cell_type": "code",
   "execution_count": null,
   "metadata": {
    "collapsed": true
   },
   "outputs": [],
   "source": []
  }
 ],
 "metadata": {
  "kernelspec": {
   "display_name": "Python 2",
   "language": "python",
   "name": "python2"
  },
  "language_info": {
   "codemirror_mode": {
    "name": "ipython",
    "version": 2
   },
   "file_extension": ".py",
   "mimetype": "text/x-python",
   "name": "python",
   "nbconvert_exporter": "python",
   "pygments_lexer": "ipython2",
   "version": "2.7.12"
  }
 },
 "nbformat": 4,
 "nbformat_minor": 2
}
